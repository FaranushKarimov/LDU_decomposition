{
 "cells": [
  {
   "cell_type": "markdown",
   "metadata": {},
   "source": [
    "#  LDU Decomposition Function"
   ]
  },
  {
   "cell_type": "markdown",
   "metadata": {},
   "source": [
    "The LDU Decomposition Function factorizes a matrix into three multiplied matrices: a lower triangular matrix, a diagonal matrix, and an upper triangular matrix."
   ]
  },
  {
   "cell_type": "code",
   "execution_count": null,
   "metadata": {
    "collapsed": true
   },
   "outputs": [],
   "source": [
    "function [P,L,D,U]= LDU(A)"
   ]
  },
  {
   "cell_type": "code",
   "execution_count": null,
   "metadata": {
    "collapsed": true
   },
   "outputs": [],
   "source": [
    "    %% Inputs\n",
    "    % A := Square Matrix Input\n",
    "\n",
    "    %% Output\n",
    "    % P := Permutation Matrix\n",
    "    % L := Lower Triangular Matrix\n",
    "    % D := Diagonal Matrix\n",
    "    % U := Upper Triangular Matrix"
   ]
  },
  {
   "cell_type": "markdown",
   "metadata": {},
   "source": [
    "First, we initialize parameters for P, L, D, and U. The upper triangular matrix is initialized with the same values as A. P and L are both initialized as identity matrices of the same dimensions as A."
   ]
  },
  {
   "cell_type": "code",
   "execution_count": null,
   "metadata": {
    "collapsed": true
   },
   "outputs": [],
   "source": [
    "    % Initialization\n",
    "    dim = length(A);\n",
    "    U=A;\n",
    "    P=eye(dim,dim);\n",
    "    L=eye(dim,dim);"
   ]
  },
  {
   "cell_type": "markdown",
   "metadata": {},
   "source": [
    "Then, we construct L, U, and P. We do this by iterating with two for loops. U will not be finilized at this step yet."
   ]
  },
  {
   "cell_type": "code",
   "execution_count": null,
   "metadata": {
    "collapsed": true
   },
   "outputs": [],
   "source": [
    "    for i = 1:(dim-1)\n",
    "            for j = 1:(dim-i)\n",
    "                if(U(i,i) == 0)\n",
    "                    k=1;\n",
    "                    while (U(i+k,i) == 0)\n",
    "                        k=k+1;\n",
    "                    end\n",
    "                        temp=U;\n",
    "                        temp2=P;\n",
    "                        U(i,(1:dim))=temp((i+k),(1:dim));\n",
    "                        U((i+k),(1:dim))=temp(i,(1:dim));\n",
    "                        P(i,(1:dim))=temp2((i+k),(1:dim));\n",
    "                        P((i+k),(1:dim))=temp2(i,(1:dim));\n",
    "                        k=0;\n",
    "                end\n",
    "                L((j+i),i)=U((j+i),i)/U(i,i);\n",
    "                U((j+i),(1:dim))=U((j+i),(1:dim))-U(i,(1:dim))/U(i,i)*U((j+i),i);\n",
    "            end\n",
    "    end"
   ]
  },
  {
   "cell_type": "markdown",
   "metadata": {},
   "source": [
    "We assign the values of U to P."
   ]
  },
  {
   "cell_type": "code",
   "execution_count": null,
   "metadata": {
    "collapsed": true
   },
   "outputs": [],
   "source": [
    "    D=U;"
   ]
  },
  {
   "cell_type": "markdown",
   "metadata": {},
   "source": [
    "We finalize U"
   ]
  },
  {
   "cell_type": "code",
   "execution_count": null,
   "metadata": {
    "collapsed": true
   },
   "outputs": [],
   "source": [
    "    for i = 1:(dim-1)\n",
    "            U(i,(1:dim))=U(i,(1:dim))/U(i,i)\n",
    "            if(i == (dim-1))\n",
    "                if(U((i+1),(i+1)) == 0)\n",
    "                    break;\n",
    "                end\n",
    "                U((i+1),(1:dim))=U(i+1,(1:dim))/U((i+1),(i+1));\n",
    "            end\n",
    "    end"
   ]
  },
  {
   "cell_type": "markdown",
   "metadata": {
    "collapsed": true
   },
   "source": [
    "We finalize D"
   ]
  },
  {
   "cell_type": "code",
   "execution_count": null,
   "metadata": {
    "collapsed": true
   },
   "outputs": [],
   "source": [
    "    for i = 1:(dim-1)\n",
    "        D(i,((i+1):dim))=0;\n",
    "    end\n",
    "end"
   ]
  }
 ],
 "metadata": {
  "anaconda-cloud": {},
  "kernelspec": {
   "display_name": "Matlab",
   "language": "matlab",
   "name": "matlab"
  },
  "language_info": {
   "codemirror_mode": "octave",
   "file_extension": ".m",
   "help_links": [
    {
     "text": "MetaKernel Magics",
     "url": "https://github.com/calysto/metakernel/blob/master/metakernel/magics/README.md"
    }
   ],
   "mimetype": "text/x-matlab",
   "name": "matlab",
   "version": "0.14.3"
  }
 },
 "nbformat": 4,
 "nbformat_minor": 1
}
